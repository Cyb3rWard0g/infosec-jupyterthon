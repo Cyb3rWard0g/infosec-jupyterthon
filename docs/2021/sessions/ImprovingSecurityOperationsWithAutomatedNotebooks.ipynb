{
 "cells": [
  {
   "cell_type": "markdown",
   "id": "9dd18c6f-f3de-49bb-904b-8ef6dfb85842",
   "metadata": {
    "jp-MarkdownHeadingCollapsed": true,
    "slideshow": {
     "slide_type": "slide"
    },
    "tags": []
   },
   "source": [
    "![Title](media/title.png)"
   ]
  },
  {
   "cell_type": "markdown",
   "id": "39d9d822",
   "metadata": {
    "slideshow": {
     "slide_type": "slide"
    }
   },
   "source": [
    "# Common SOC Challenges\n",
    "\n",
    "- Alert Fatigue\n",
    "- Tool Diversification\n",
    "- Workload\n",
    "- Retention\n",
    "- Skill Gap\n",
    "- Quality\n"
   ]
  },
  {
   "cell_type": "markdown",
   "id": "605b70fb",
   "metadata": {
    "slideshow": {
     "slide_type": "subslide"
    }
   },
   "source": [
    "## All of these challenges can be tackled with Notebook Automation\n",
    "\n",
    "- Automate repetative actions\n",
    "- Auto remediate alerts\n",
    "- Capture knowledge\n",
    "- Embed context into analytics\n",
    "- Ensure consistency\n",
    "- Provide audit trail\n",
    "- Common interface\n",
    "- Expand skills to more analysts"
   ]
  },
  {
   "cell_type": "markdown",
   "id": "5fb1c84d",
   "metadata": {
    "slideshow": {
     "slide_type": "slide"
    }
   },
   "source": [
    "![Process](media/process.png)"
   ]
  },
  {
   "cell_type": "markdown",
   "id": "76c109fb",
   "metadata": {
    "slideshow": {
     "slide_type": "slide"
    }
   },
   "source": [
    "![\"Papermill\"](media/papermill.png)"
   ]
  },
  {
   "cell_type": "markdown",
   "id": "49efd33a",
   "metadata": {
    "slideshow": {
     "slide_type": "subslide"
    }
   },
   "source": [
    "https://github.com/nteract/papermill\n",
    " <br><br>\n",
    " - Run in a notebook or command line\n",
    " - Input from and output to:\n",
    "     - Terminal\n",
    "     - Local Storage\n",
    "     - HTTP source\n",
    "     - AWS S3\n",
    "     - Azure Storage\n",
    "     - GCP Storage"
   ]
  },
  {
   "cell_type": "code",
   "execution_count": 1,
   "id": "d42e97dc",
   "metadata": {
    "slideshow": {
     "slide_type": "slide"
    }
   },
   "outputs": [],
   "source": [
    "import papermill as pm"
   ]
  },
  {
   "cell_type": "code",
   "execution_count": 2,
   "id": "0f268d58",
   "metadata": {
    "slideshow": {
     "slide_type": "slide"
    }
   },
   "outputs": [
    {
     "data": {
      "application/vnd.jupyter.widget-view+json": {
       "model_id": "df93962d3de4418ea8696a950143a805",
       "version_major": 2,
       "version_minor": 0
      },
      "text/plain": [
       "Executing:   0%|          | 0/17 [00:00<?, ?cell/s]"
      ]
     },
     "metadata": {},
     "output_type": "display_data"
    }
   ],
   "source": [
    "# Automated execution with Papermill\n",
    "nb = pm.execute_notebook(\n",
    "    \"AutomatedNotebooks-IncidentTriage.ipynb\",\n",
    "    \"Notebook_out.ipynb\",\n",
    "    parameters={\n",
    "        \"incident_id\": \"0ed3e1a2-fa7b-4e1f-91f1-554c29d0d2e2\",\n",
    "    },\n",
    ")"
   ]
  },
  {
   "cell_type": "markdown",
   "id": "452adc3b-43b3-4e00-beeb-2218530cee08",
   "metadata": {
    "slideshow": {
     "slide_type": "slide"
    }
   },
   "source": [
    "![\"Params\"](meida/parameters.png)\n",
    "![\"Params2\"](media/parameters2.png)"
   ]
  },
  {
   "cell_type": "code",
   "execution_count": 3,
   "id": "bcf14e1c",
   "metadata": {
    "slideshow": {
     "slide_type": "slide"
    }
   },
   "outputs": [
    {
     "data": {
      "text/plain": [
       "{'incident_id': {'name': 'incident_id',\n",
       "  'inferred_type_name': 'None',\n",
       "  'default': '\"\"',\n",
       "  'help': ''}}"
      ]
     },
     "execution_count": 3,
     "metadata": {},
     "output_type": "execute_result"
    }
   ],
   "source": [
    "pm.inspect_notebook(\"AutomatedNotebooks-IncidentTriage.ipynb\")"
   ]
  },
  {
   "cell_type": "code",
   "execution_count": 5,
   "id": "fbe4f8a1",
   "metadata": {
    "slideshow": {
     "slide_type": "subslide"
    }
   },
   "outputs": [
    {
     "name": "stdout",
     "output_type": "stream",
     "text": [
      "It looks like we have some usefull output here.\n"
     ]
    }
   ],
   "source": [
    "for cell in nb[\"cells\"]:\n",
    "    if \"output\" in cell[\"metadata\"][\"tags\"] and cell[\"outputs\"]:\n",
    "        print(\"It looks like we have some usefull output here.\")"
   ]
  },
  {
   "cell_type": "markdown",
   "id": "ec68832f",
   "metadata": {
    "slideshow": {
     "slide_type": "slide"
    }
   },
   "source": [
    "## How to make this pattern usable\n",
    "- Execution Environment\n",
    "- Pipeline of alerts\n",
    "- Output environment"
   ]
  },
  {
   "cell_type": "markdown",
   "id": "4a1c9a3d",
   "metadata": {
    "slideshow": {
     "slide_type": "slide"
    }
   },
   "source": [
    "![Architecture](media/arch.png)"
   ]
  },
  {
   "cell_type": "markdown",
   "id": "42ba47ea",
   "metadata": {
    "slideshow": {
     "slide_type": "slide"
    }
   },
   "source": [
    "![UX](media/ux.png)"
   ]
  },
  {
   "cell_type": "markdown",
   "id": "a6f53dcc",
   "metadata": {
    "slideshow": {
     "slide_type": "slide"
    }
   },
   "source": [
    "![\"Commuter\"](media/commuter.png)"
   ]
  },
  {
   "cell_type": "markdown",
   "id": "e5134a3a",
   "metadata": {
    "slideshow": {
     "slide_type": "slide"
    }
   },
   "source": [
    "![\"Hub\"](media/hub.png)"
   ]
  },
  {
   "cell_type": "markdown",
   "id": "1f1482a8-da98-40ba-9266-07331aede56d",
   "metadata": {
    "slideshow": {
     "slide_type": "slide"
    }
   },
   "source": [
    "![\"Airflow\"](media/airflow.png)"
   ]
  },
  {
   "cell_type": "markdown",
   "id": "9bad208c-6f71-4e26-a2c3-dadac14fadd1",
   "metadata": {
    "slideshow": {
     "slide_type": "slide"
    }
   },
   "source": [
    "![\"DataBricks\"](media/databricks.png)"
   ]
  },
  {
   "cell_type": "markdown",
   "id": "5560546a",
   "metadata": {
    "slideshow": {
     "slide_type": "slide"
    }
   },
   "source": [
    "## Resources:\n",
    "- Papermill: https://github.com/nteract/papermill\n",
    "- Commuter: https://github.com/nteract/commuter\n",
    "- Automated notebooks in Sentinel: https://techcommunity.microsoft.com/t5/microsoft-sentinel-blog/software-defined-monitoring-using-automated-notebooks-and-azure/ba-p/2587775\n",
    "- Notebooks at Netflix: https://netflixtechblog.com/notebook-innovation-591ee3221233"
   ]
  },
  {
   "cell_type": "code",
   "execution_count": null,
   "id": "ffab38f9",
   "metadata": {},
   "outputs": [],
   "source": []
  }
 ],
 "metadata": {
  "celltoolbar": "Slideshow",
  "kernelspec": {
   "display_name": "Python 3",
   "language": "python",
   "name": "python3"
  },
  "language_info": {
   "codemirror_mode": {
    "name": "ipython",
    "version": 3
   },
   "file_extension": ".py",
   "mimetype": "text/x-python",
   "name": "python",
   "nbconvert_exporter": "python",
   "pygments_lexer": "ipython3",
   "version": "3.8.10"
  }
 },
 "nbformat": 4,
 "nbformat_minor": 5
}
